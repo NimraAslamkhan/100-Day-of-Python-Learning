{
  "nbformat": 4,
  "nbformat_minor": 0,
  "metadata": {
    "colab": {
      "provenance": []
    },
    "kernelspec": {
      "name": "python3",
      "display_name": "Python 3"
    },
    "language_info": {
      "name": "python"
    }
  },
  "cells": [
    {
      "cell_type": "markdown",
      "source": [
        "#DO NOT SKIP - Download and Setup PyCharm for Learning\n",
        "\n",
        "\n",
        "In the coming lessons, we'll be using the PyCharm Integrated Development Environment to learn to code. It's a completely free piece of software and is used by professional Python developers across the globe. They also have a handy course template feature, which we'll be using for the beginner parts of the lessons from Day 1 to 15. So while you might have another favourite code editor, I only recommend to use PyCharm for this course.\n",
        "\n",
        "\n",
        "\n",
        "#Step 1\n",
        "\n",
        "\n",
        "Download and install Python to your computer. Head over to the official Python website to download the latest version of Python for your computer system. Then complete the installation.\n",
        "\n",
        "Make sure you tick the box to Add to PATH / Add to Environment Variables. You will also need tcl/tk later in the course, so a Custom install gives you access to all of these settings.\n",
        "\n",
        "https://www.python.org/downloads/\n",
        "\n",
        "\n",
        "\n",
        "#Step 2\n",
        "\n",
        "Download the Free Community Edition of PyCharm using the link below:\n",
        "\n",
        "https://www.jetbrains.com/edu-products/download/#section=pycharm-edu\n",
        "\n",
        "\n",
        "\n",
        "IMPORTANT: If you already have PyCharm, make sure you update to the latest version of PyCharm otherwise the steps below might not work!\n",
        "\n",
        "## Simple print\n"
      ],
      "metadata": {
        "id": "GN3uIJ9MHp42"
      }
    },
    {
      "cell_type": "code",
      "source": [
        "print(\" Hellow , python!\")"
      ],
      "metadata": {
        "colab": {
          "base_uri": "https://localhost:8080/"
        },
        "id": "wgc3rLapHpio",
        "outputId": "51370122-7f80-4548-9477-0776e1d0e15d"
      },
      "execution_count": 1,
      "outputs": [
        {
          "output_type": "stream",
          "name": "stdout",
          "text": [
            " Hellow , python!\n"
          ]
        }
      ]
    },
    {
      "cell_type": "code",
      "execution_count": 2,
      "metadata": {
        "colab": {
          "base_uri": "https://localhost:8080/"
        },
        "id": "a6-qV3lhHlXN",
        "outputId": "1fbf3702-d67a-4079-d03a-9826d5e57f5e"
      },
      "outputs": [
        {
          "output_type": "stream",
          "name": "stdout",
          "text": [
            "Nimra\n"
          ]
        }
      ],
      "source": [
        "# Print a variable\n",
        "name = \"Nimra\"\n",
        "print(name)"
      ]
    },
    {
      "cell_type": "code",
      "source": [
        "age = 27\n",
        "print(\"Name:\", name, \"| Age:\", age)"
      ],
      "metadata": {
        "colab": {
          "base_uri": "https://localhost:8080/"
        },
        "id": "PqrK6q9qIK_9",
        "outputId": "f61fd215-6120-4a35-ca76-1001528a95c7"
      },
      "execution_count": 3,
      "outputs": [
        {
          "output_type": "stream",
          "name": "stdout",
          "text": [
            "Name: Nimra | Age: 27\n"
          ]
        }
      ]
    },
    {
      "cell_type": "markdown",
      "source": [
        "# Input Function"
      ],
      "metadata": {
        "id": "3XSvjkT6IlSt"
      }
    },
    {
      "cell_type": "code",
      "source": [
        "user_name=input(\"Enter name\")\n",
        "print(\"Hellow\" , user_name, \"welcom to python\")"
      ],
      "metadata": {
        "colab": {
          "base_uri": "https://localhost:8080/"
        },
        "id": "Zcsh5eh9I09B",
        "outputId": "45f3f2a0-57af-4d19-afa4-8f50a9d7815d"
      },
      "execution_count": 7,
      "outputs": [
        {
          "output_type": "stream",
          "name": "stdout",
          "text": [
            "Enter namenimra\n",
            "Hellow nimra welcom to python\n"
          ]
        }
      ]
    },
    {
      "cell_type": "code",
      "source": [
        "#Exercise 1:\n",
        "#Ask user for their name and favorite color, and print them together.\n",
        "name = input(\"Enter your name: \")\n",
        "color = input(\"Enter your favorite color: \")\n",
        "print(name + \" likes \" + color)\n"
      ],
      "metadata": {
        "colab": {
          "base_uri": "https://localhost:8080/"
        },
        "id": "AwmiqcmyIPqZ",
        "outputId": "b3b728ae-5484-43bc-b822-814afa39e91c"
      },
      "execution_count": 5,
      "outputs": [
        {
          "output_type": "stream",
          "name": "stdout",
          "text": [
            "Enter your name: nimra\n",
            "Enter your favorite color: blue\n",
            "nimra likes blue\n"
          ]
        }
      ]
    },
    {
      "cell_type": "code",
      "source": [
        "#Exercise 2:\n",
        "#Ask two numbers and print their sum.\n",
        "num1=34\n",
        "num2=55\n",
        "print(\" the sum=\", num1+num2)"
      ],
      "metadata": {
        "colab": {
          "base_uri": "https://localhost:8080/"
        },
        "id": "DZYolzILJUSJ",
        "outputId": "b1bb3487-76e9-4076-caa0-05e032f44b72"
      },
      "execution_count": 12,
      "outputs": [
        {
          "output_type": "stream",
          "name": "stdout",
          "text": [
            " the sum= 89\n"
          ]
        }
      ]
    },
    {
      "cell_type": "code",
      "source": [
        "#Exercise 3:\n",
        "#Ask for city and country, print in a sentence\n",
        "\n",
        "city=input(\"enter city name\")\n",
        "country=input(\"enter country name\")\n",
        "print(city + \" \"+ country)"
      ],
      "metadata": {
        "colab": {
          "base_uri": "https://localhost:8080/"
        },
        "id": "0CekxcINJ6pn",
        "outputId": "9905d4b0-6655-4a41-85e2-37b229afc6b4"
      },
      "execution_count": 15,
      "outputs": [
        {
          "output_type": "stream",
          "name": "stdout",
          "text": [
            "enter city namelahore\n",
            "enter country namepakistan\n",
            "lahore pakistan\n"
          ]
        }
      ]
    },
    {
      "cell_type": "code",
      "source": [
        "# name genrator\n",
        "first_name=input(\"enter name\")\n",
        "last_name=input(\"enter name\")\n",
        "print(first_name[:2]+last_name[:2])"
      ],
      "metadata": {
        "colab": {
          "base_uri": "https://localhost:8080/"
        },
        "id": "6xo2suKnK1d7",
        "outputId": "aad98883-cb0f-4ede-c9e8-58490df63edd"
      },
      "execution_count": 16,
      "outputs": [
        {
          "output_type": "stream",
          "name": "stdout",
          "text": [
            "enter namenimra aslam\n",
            "enter namekhan\n",
            "nikh\n"
          ]
        }
      ]
    }
  ]
}